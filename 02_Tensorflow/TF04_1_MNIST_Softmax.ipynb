{
 "cells": [
  {
   "cell_type": "code",
   "execution_count": null,
   "metadata": {},
   "outputs": [],
   "source": [
    "import tensorflow as tf\n",
    "import random\n",
    "from tensorflow.examples.tutorials.mnist import input_data\n",
    "import matplotlib.pyplot as plt"
   ]
  },
  {
   "cell_type": "code",
   "execution_count": 2,
   "metadata": {},
   "outputs": [],
   "source": [
    "tf.set_random_seed(777)  # reproducibility"
   ]
  },
  {
   "cell_type": "markdown",
   "metadata": {},
   "source": [
    "중요한 역할은 아닌데 같은 랜덤으로 나오도록하는거? 777은 아무숫자나 해도 욈"
   ]
  },
  {
   "cell_type": "code",
   "execution_count": 3,
   "metadata": {
    "scrolled": true
   },
   "outputs": [
    {
     "name": "stdout",
     "output_type": "stream",
     "text": [
      "WARNING:tensorflow:From <ipython-input-3-ef241aa9aaf8>:1: read_data_sets (from tensorflow.contrib.learn.python.learn.datasets.mnist) is deprecated and will be removed in a future version.\n",
      "Instructions for updating:\n",
      "Please use alternatives such as official/mnist/dataset.py from tensorflow/models.\n",
      "WARNING:tensorflow:From c:\\users\\이유경\\appdata\\local\\programs\\python\\python36\\lib\\site-packages\\tensorflow\\contrib\\learn\\python\\learn\\datasets\\mnist.py:260: maybe_download (from tensorflow.contrib.learn.python.learn.datasets.base) is deprecated and will be removed in a future version.\n",
      "Instructions for updating:\n",
      "Please write your own downloading logic.\n",
      "WARNING:tensorflow:From c:\\users\\이유경\\appdata\\local\\programs\\python\\python36\\lib\\site-packages\\tensorflow\\contrib\\learn\\python\\learn\\datasets\\mnist.py:262: extract_images (from tensorflow.contrib.learn.python.learn.datasets.mnist) is deprecated and will be removed in a future version.\n",
      "Instructions for updating:\n",
      "Please use tf.data to implement this functionality.\n",
      "Extracting ./MNIST_data/train-images-idx3-ubyte.gz\n",
      "WARNING:tensorflow:From c:\\users\\이유경\\appdata\\local\\programs\\python\\python36\\lib\\site-packages\\tensorflow\\contrib\\learn\\python\\learn\\datasets\\mnist.py:267: extract_labels (from tensorflow.contrib.learn.python.learn.datasets.mnist) is deprecated and will be removed in a future version.\n",
      "Instructions for updating:\n",
      "Please use tf.data to implement this functionality.\n",
      "Extracting ./MNIST_data/train-labels-idx1-ubyte.gz\n",
      "WARNING:tensorflow:From c:\\users\\이유경\\appdata\\local\\programs\\python\\python36\\lib\\site-packages\\tensorflow\\contrib\\learn\\python\\learn\\datasets\\mnist.py:110: dense_to_one_hot (from tensorflow.contrib.learn.python.learn.datasets.mnist) is deprecated and will be removed in a future version.\n",
      "Instructions for updating:\n",
      "Please use tf.one_hot on tensors.\n",
      "Extracting ./MNIST_data/t10k-images-idx3-ubyte.gz\n",
      "Extracting ./MNIST_data/t10k-labels-idx1-ubyte.gz\n",
      "WARNING:tensorflow:From c:\\users\\이유경\\appdata\\local\\programs\\python\\python36\\lib\\site-packages\\tensorflow\\contrib\\learn\\python\\learn\\datasets\\mnist.py:290: DataSet.__init__ (from tensorflow.contrib.learn.python.learn.datasets.mnist) is deprecated and will be removed in a future version.\n",
      "Instructions for updating:\n",
      "Please use alternatives such as official/mnist/dataset.py from tensorflow/models.\n"
     ]
    }
   ],
   "source": [
    "mnist = input_data.read_data_sets(\"./MNIST_data/\", one_hot=True)"
   ]
  },
  {
   "cell_type": "code",
   "execution_count": 4,
   "metadata": {},
   "outputs": [],
   "source": [
    "# parameters\n",
    "learning_rate = 0.001\n",
    "training_epochs = 100 #전체 데이터를 50번 학습하겠다\n",
    "batch_size = 128"
   ]
  },
  {
   "cell_type": "code",
   "execution_count": 5,
   "metadata": {},
   "outputs": [],
   "source": [
    "# input place holders\n",
    "X = tf.placeholder(tf.float32, [None, 784])\n",
    "Y = tf.placeholder(tf.float32, [None, 10])"
   ]
  },
  {
   "cell_type": "markdown",
   "metadata": {},
   "source": [
    "784개의 점들이 있고 10개의 나오는 결과가 있어 \n",
    "각 점마다 10개씩의 선이 방출\n",
    "7840개의 선이 연결선이 생긴다 \n",
    "7이란 숫자가 적힌 그림이 있으면 흰색부분은 쓰지 않는 부위로 판단 0, 1이면 칠해진 영역 이렇게 점차 오차를 줄여나가는 것 "
   ]
  },
  {
   "cell_type": "markdown",
   "metadata": {},
   "source": [
    "b, 고정해주는 역할??? 처음애는 랜더으로 아무값을 눻고  가설을 새운다 x가 들어와서 w선의 갯수 둘을 곱하고 b를 더해라 \n",
    "에러는 어떻게 정의할까 내가 세운 가설이랑 레이블을 뺴라  옵티마이즈에게 오차좀 줄려죠 부ㅌㄱ"
   ]
  },
  {
   "cell_type": "code",
   "execution_count": 6,
   "metadata": {},
   "outputs": [],
   "source": [
    "# weights & bias for nn layers\n",
    "W = tf.Variable(tf.random_normal([784, 10]))\n",
    "b = tf.Variable(tf.random_normal([10]))\n",
    "\n",
    "hypothesis = tf.matmul(X, W) + b\n",
    "\n",
    "# define cost/loss & optimizer\n",
    "#cost = tf.reduce_mean(tf.nn.softmax_cross_entropy_with_logits(logits=hypothesis, labels=Y))\n",
    "cost = tf.reduce_mean(tf.square(hypothesis - Y))\n",
    "\n",
    "optimizer = tf.train.AdamOptimizer(learning_rate=learning_rate).minimize(cost)"
   ]
  },
  {
   "cell_type": "code",
   "execution_count": 7,
   "metadata": {
    "scrolled": true
   },
   "outputs": [],
   "source": [
    "# initialize\n",
    "sess = tf.InteractiveSession()\n",
    "sess.run(tf.global_variables_initializer())"
   ]
  },
  {
   "cell_type": "code",
   "execution_count": 10,
   "metadata": {},
   "outputs": [],
   "source": [
    "vc = []"
   ]
  },
  {
   "cell_type": "code",
   "execution_count": 11,
   "metadata": {
    "scrolled": true
   },
   "outputs": [
    {
     "name": "stdout",
     "output_type": "stream",
     "text": [
      "Epoch: 0001 cost = 14.308401650\n",
      "Epoch: 0002 cost = 9.026778536\n",
      "Epoch: 0003 cost = 6.412436645\n",
      "Epoch: 0004 cost = 4.862800869\n",
      "Epoch: 0005 cost = 3.840647854\n",
      "Epoch: 0006 cost = 3.115457276\n",
      "Epoch: 0007 cost = 2.567167001\n",
      "Epoch: 0008 cost = 2.144114804\n",
      "Epoch: 0009 cost = 1.805606233\n",
      "Epoch: 0010 cost = 1.531944441\n",
      "Epoch: 0011 cost = 1.305222320\n",
      "Epoch: 0012 cost = 1.116181322\n",
      "Epoch: 0013 cost = 0.956514186\n",
      "Epoch: 0014 cost = 0.818951411\n",
      "Epoch: 0015 cost = 0.701222375\n",
      "Epoch: 0016 cost = 0.601362520\n",
      "Epoch: 0017 cost = 0.514871872\n",
      "Epoch: 0018 cost = 0.441104051\n",
      "Epoch: 0019 cost = 0.377390171\n",
      "Epoch: 0020 cost = 0.322839895\n",
      "Epoch: 0021 cost = 0.276691091\n",
      "Epoch: 0022 cost = 0.237337386\n",
      "Epoch: 0023 cost = 0.204031259\n",
      "Epoch: 0024 cost = 0.175245805\n",
      "Epoch: 0025 cost = 0.151707734\n",
      "Epoch: 0026 cost = 0.131606124\n",
      "Epoch: 0027 cost = 0.114884792\n",
      "Epoch: 0028 cost = 0.100642784\n",
      "Epoch: 0029 cost = 0.089358514\n",
      "Epoch: 0030 cost = 0.079655104\n",
      "Epoch: 0031 cost = 0.071808274\n",
      "Epoch: 0032 cost = 0.065404788\n",
      "Epoch: 0033 cost = 0.060298153\n",
      "Epoch: 0034 cost = 0.056030068\n",
      "Epoch: 0035 cost = 0.052966911\n",
      "Epoch: 0036 cost = 0.050096269\n",
      "Epoch: 0037 cost = 0.048156101\n",
      "Epoch: 0038 cost = 0.046373173\n",
      "Epoch: 0039 cost = 0.045021910\n",
      "Epoch: 0040 cost = 0.044102192\n",
      "Epoch: 0041 cost = 0.043257816\n",
      "Epoch: 0042 cost = 0.042415865\n",
      "Epoch: 0043 cost = 0.041963906\n",
      "Epoch: 0044 cost = 0.041563592\n",
      "Epoch: 0045 cost = 0.041420384\n",
      "Epoch: 0046 cost = 0.040901993\n",
      "Epoch: 0047 cost = 0.040698668\n",
      "Epoch: 0048 cost = 0.040597280\n",
      "Epoch: 0049 cost = 0.040464945\n",
      "Epoch: 0050 cost = 0.040290681\n",
      "Epoch: 0051 cost = 0.040281309\n",
      "Epoch: 0052 cost = 0.040167083\n",
      "Epoch: 0053 cost = 0.039969561\n",
      "Epoch: 0054 cost = 0.040004583\n",
      "Epoch: 0055 cost = 0.039900440\n",
      "Epoch: 0056 cost = 0.039931232\n",
      "Epoch: 0057 cost = 0.039940846\n",
      "Epoch: 0058 cost = 0.039741647\n",
      "Epoch: 0059 cost = 0.039914877\n",
      "Epoch: 0060 cost = 0.039688362\n",
      "Epoch: 0061 cost = 0.039792580\n",
      "Epoch: 0062 cost = 0.039778464\n",
      "Epoch: 0063 cost = 0.039609408\n",
      "Epoch: 0064 cost = 0.039719187\n",
      "Epoch: 0065 cost = 0.039744015\n",
      "Epoch: 0066 cost = 0.039637854\n",
      "Epoch: 0067 cost = 0.039760602\n",
      "Epoch: 0068 cost = 0.039801478\n",
      "Epoch: 0069 cost = 0.039720189\n",
      "Epoch: 0070 cost = 0.039529205\n",
      "Epoch: 0071 cost = 0.039579577\n",
      "Epoch: 0072 cost = 0.039655123\n",
      "Epoch: 0073 cost = 0.039619452\n",
      "Epoch: 0074 cost = 0.039594271\n",
      "Epoch: 0075 cost = 0.039616005\n",
      "Epoch: 0076 cost = 0.039652614\n",
      "Epoch: 0077 cost = 0.039565600\n",
      "Epoch: 0078 cost = 0.039608554\n",
      "Epoch: 0079 cost = 0.039699216\n",
      "Epoch: 0080 cost = 0.039479951\n",
      "Epoch: 0081 cost = 0.039655333\n",
      "Epoch: 0082 cost = 0.039533956\n",
      "Epoch: 0083 cost = 0.039609130\n",
      "Epoch: 0084 cost = 0.039681162\n",
      "Epoch: 0085 cost = 0.039439158\n",
      "Epoch: 0086 cost = 0.039708722\n",
      "Epoch: 0087 cost = 0.039491820\n",
      "Epoch: 0088 cost = 0.039641381\n",
      "Epoch: 0089 cost = 0.039566138\n",
      "Epoch: 0090 cost = 0.039548472\n",
      "Epoch: 0091 cost = 0.039535762\n",
      "Epoch: 0092 cost = 0.039585580\n",
      "Epoch: 0093 cost = 0.039487684\n",
      "Epoch: 0094 cost = 0.039652158\n",
      "Epoch: 0095 cost = 0.039552601\n",
      "Epoch: 0096 cost = 0.039695342\n",
      "Epoch: 0097 cost = 0.039392162\n",
      "Epoch: 0098 cost = 0.039614983\n",
      "Epoch: 0099 cost = 0.039630599\n",
      "Epoch: 0100 cost = 0.039633904\n",
      "Learning Finished!\n"
     ]
    }
   ],
   "source": [
    "# train my model\n",
    "for epoch in range(training_epochs):\n",
    "    avg_cost = 0\n",
    "    total_batch = int(mnist.train.num_examples / batch_size)\n",
    "\n",
    "    for i in range(total_batch):\n",
    "        batch_xs, batch_ys = mnist.train.next_batch(batch_size)\n",
    "        feed_dict = {X: batch_xs, Y: batch_ys}\n",
    "        c, _ = sess.run([cost, optimizer], feed_dict=feed_dict)\n",
    "        avg_cost += c / total_batch\n",
    "\n",
    "    print('Epoch:', '%04d' % (epoch + 1), 'cost =', '{:.9f}'.format(avg_cost))\n",
    "    vc.append(avg_cost)\n",
    "    \n",
    "print('Learning Finished!')"
   ]
  },
  {
   "cell_type": "code",
   "execution_count": 13,
   "metadata": {
    "scrolled": true
   },
   "outputs": [
    {
     "data": {
      "image/png": "[encoded data removed]",
      "text/plain": [
       "<Figure size 432x288 with 1 Axes>"
      ]
     },
     "metadata": {
      "needs_background": "light"
     },
     "output_type": "display_data"
    }
   ],
   "source": [
    "plt.plot(vc)\n",
    "plt.show()"
   ]
  },
  {
   "cell_type": "code",
   "execution_count": null,
   "metadata": {},
   "outputs": [],
   "source": [
    "################################\n",
    "# 정확도 확인하기\n",
    "# Test model and check accuracy\n",
    "pred = tf.equal(tf.argmax(hypothesis, 1), tf.argmax(Y, 1))\n",
    "print (pred.dtype)\n",
    "accuracy = tf.reduce_mean(tf.cast(pred, tf.float32))\n",
    "print('Accuracy (test):', sess.run(accuracy, feed_dict={X: mnist.test.images, Y: mnist.test.labels}))"
   ]
  },
  {
   "cell_type": "code",
   "execution_count": null,
   "metadata": {},
   "outputs": [],
   "source": []
  },
  {
   "cell_type": "code",
   "execution_count": null,
   "metadata": {},
   "outputs": [],
   "source": []
  }
 ],
 "metadata": {
  "kernelspec": {
   "display_name": "Python 3",
   "language": "python",
   "name": "python3"
  },
  "language_info": {
   "codemirror_mode": {
    "name": "ipython",
    "version": 3
   },
   "file_extension": ".py",
   "mimetype": "text/x-python",
   "name": "python",
   "nbconvert_exporter": "python",
   "pygments_lexer": "ipython3",
   "version": "3.6.6"
  }
 },
 "nbformat": 4,
 "nbformat_minor": 2
}
